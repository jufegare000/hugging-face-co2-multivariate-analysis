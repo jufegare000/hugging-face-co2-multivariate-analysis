{
 "cells": [
  {
   "cell_type": "markdown",
   "id": "d34ada06",
   "metadata": {},
   "source": [
    "# K-means results — quick viewer\n",
    "This notebook loads the k-means clustering outputs you generated and shows:\n",
    "\n",
    "- Metrics by *k* (Silhouette, CH, DBI, Inertia).\n",
    "\n",
    "- Chosen solution **k=2**: cluster sizes, original-unit profiles, z-centroids, and discriminative ranking.\n",
    "\n",
    "- External label distributions (`is_fair`, `clasification_fairness`, `model_type`) per cluster (k=2).\n",
    "\n",
    "\n",
    "> All files are read from `/mnt/data` which is already populated in this session.\n"
   ]
  },
  {
   "cell_type": "code",
   "execution_count": null,
   "id": "b79b90bd",
   "metadata": {},
   "outputs": [],
   "source": [
    "\n",
    "import pandas as pd\n",
    "import matplotlib.pyplot as plt\n",
    "from pathlib import Path\n",
    "\n",
    "base = Path('/mnt/data')\n",
    "\n",
    "# File paths produced earlier\n",
    "p_resumen = base / 'kmeans_resumen_por_k.csv'\n",
    "p_sil = base / 'silhouette_vs_k.png'\n",
    "p_ch  = base / 'ch_vs_k.png'\n",
    "p_dbi = base / 'dbi_vs_k.png'\n",
    "p_elb = base / 'elbow_inertia.png'\n",
    "p_sizes_k2 = base / 'cluster_sizes_k2.png'\n",
    "\n",
    "p_centroids_k2 = base / 'centroides_zscores_k2.csv'\n",
    "p_perfil_k2     = base / 'perfil_unidades_originales_k2.csv'\n",
    "p_rank_k2       = base / 'ranking_max_abs_z_k2.csv'\n",
    "\n",
    "p_dist_fair_k2 = base / 'distrib_is_fair_por_cluster_k2.csv'\n",
    "p_dist_cls_k2  = base / 'distrib_clasification_fairness_por_cluster_k2.csv'\n",
    "p_dist_type_k2 = base / 'distrib_model_type_por_cluster_k2.csv'\n",
    "\n",
    "# Convenience display\n",
    "def show_img(path):\n",
    "    from IPython.display import Image, display\n",
    "    display(Image(filename=str(path)))\n"
   ]
  },
  {
   "cell_type": "markdown",
   "id": "a2207136",
   "metadata": {},
   "source": [
    "## 1) Metrics by *k*"
   ]
  },
  {
   "cell_type": "code",
   "execution_count": null,
   "id": "3a1897e3",
   "metadata": {},
   "outputs": [],
   "source": [
    "\n",
    "if p_resumen.exists():\n",
    "    resumen = pd.read_csv(p_resumen)\n",
    "    display(resumen.head(12))\n",
    "else:\n",
    "    print(\"Missing:\", p_resumen)\n"
   ]
  },
  {
   "cell_type": "code",
   "execution_count": null,
   "id": "385b115a",
   "metadata": {},
   "outputs": [],
   "source": [
    "\n",
    "for p in [p_sil, p_ch, p_dbi, p_elb]:\n",
    "    if p.exists():\n",
    "        show_img(p)\n",
    "    else:\n",
    "        print(\"Missing:\", p)\n"
   ]
  },
  {
   "cell_type": "markdown",
   "id": "0cb41bd2",
   "metadata": {},
   "source": [
    "## 2) Chosen solution: **k = 2**"
   ]
  },
  {
   "cell_type": "code",
   "execution_count": null,
   "id": "a01e55ae",
   "metadata": {},
   "outputs": [],
   "source": [
    "\n",
    "if p_sizes_k2.exists():\n",
    "    show_img(p_sizes_k2)\n"
   ]
  },
  {
   "cell_type": "markdown",
   "id": "63acf3cc",
   "metadata": {},
   "source": [
    "### Profiles in original units (k=2)"
   ]
  },
  {
   "cell_type": "code",
   "execution_count": null,
   "id": "2eb85555",
   "metadata": {},
   "outputs": [],
   "source": [
    "\n",
    "if p_perfil_k2.exists():\n",
    "    perfil = pd.read_csv(p_perfil_k2)\n",
    "    display(perfil)\n",
    "else:\n",
    "    print(\"Missing:\", p_perfil_k2)\n"
   ]
  },
  {
   "cell_type": "markdown",
   "id": "b9bf8adb",
   "metadata": {},
   "source": [
    "### Z-centroids (k=2)"
   ]
  },
  {
   "cell_type": "code",
   "execution_count": null,
   "id": "9fe3d3b5",
   "metadata": {},
   "outputs": [],
   "source": [
    "\n",
    "if p_centroids_k2.exists():\n",
    "    cent = pd.read_csv(p_centroids_k2)\n",
    "    display(cent)\n",
    "else:\n",
    "    print(\"Missing:\", p_centroids_k2)\n"
   ]
  },
  {
   "cell_type": "markdown",
   "id": "287c8da1",
   "metadata": {},
   "source": [
    "### Discriminative ranking by max |z| (k=2)"
   ]
  },
  {
   "cell_type": "code",
   "execution_count": null,
   "id": "b88ded62",
   "metadata": {},
   "outputs": [],
   "source": [
    "\n",
    "if p_rank_k2.exists():\n",
    "    rank = pd.read_csv(p_rank_k2)\n",
    "    display(rank)\n",
    "else:\n",
    "    print(\"Missing:\", p_rank_k2)\n"
   ]
  },
  {
   "cell_type": "markdown",
   "id": "d9bd321f",
   "metadata": {},
   "source": [
    "## 3) External label distributions (k=2)"
   ]
  },
  {
   "cell_type": "code",
   "execution_count": null,
   "id": "d03dc80c",
   "metadata": {},
   "outputs": [],
   "source": [
    "\n",
    "for path in [p_dist_fair_k2, p_dist_cls_k2, p_dist_type_k2]:\n",
    "    if path.exists():\n",
    "        print(path.name)\n",
    "        display(pd.read_csv(path, index_col=0))\n",
    "    else:\n",
    "        print(\"Missing:\", path)\n"
   ]
  }
 ],
 "metadata": {},
 "nbformat": 4,
 "nbformat_minor": 5
}
