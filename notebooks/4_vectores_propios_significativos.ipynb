{
 "cells": [
  {
   "cell_type": "code",
   "execution_count": 2,
   "id": "f7277863-5dec-47bd-9caa-0e5f175f6e83",
   "metadata": {},
   "outputs": [],
   "source": [
    "# Determinar vectores propios significativos y la varianza explicada por cada análisis factorial.\n"
   ]
  },
  {
   "cell_type": "code",
   "execution_count": null,
   "id": "3b2d5756-4af3-40d1-804b-18e5692d7251",
   "metadata": {},
   "outputs": [],
   "source": []
  }
 ],
 "metadata": {
  "kernelspec": {
   "display_name": "Python 3 (ipykernel)",
   "language": "python",
   "name": "python3"
  },
  "language_info": {
   "codemirror_mode": {
    "name": "ipython",
    "version": 3
   },
   "file_extension": ".py",
   "mimetype": "text/x-python",
   "name": "python",
   "nbconvert_exporter": "python",
   "pygments_lexer": "ipython3",
   "version": "3.11.13"
  }
 },
 "nbformat": 4,
 "nbformat_minor": 5
}
