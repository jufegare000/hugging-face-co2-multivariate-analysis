{
 "cells": [
  {
   "cell_type": "code",
   "execution_count": null,
   "id": "11ef9446-b5df-425b-8869-6e7a286fa656",
   "metadata": {},
   "outputs": [],
   "source": [
    "# Determinar las matrices de varianza-covarianza y correlación para el \n",
    "# conjunto de datos completo, analizar las correlaciones existente entre las variables."
   ]
  },
  {
   "cell_type": "code",
   "execution_count": 1,
   "id": "f1765d63-5a59-4404-951e-8a7d7029f849",
   "metadata": {},
   "outputs": [],
   "source": [
    "import sys\n",
    "import os\n",
    "import numpy as np\n",
    "current_dir = os.path.abspath('')\n",
    "parent_dir = os.path.dirname(current_dir)\n",
    "src_dir = os.path.join(parent_dir, 'src')\n",
    "sys.path.insert(0, src_dir)\n",
    "from clean.dataset_clean import DataSetClean"
   ]
  },
  {
   "cell_type": "code",
   "execution_count": 2,
   "id": "f3556e6b-48fe-4418-be41-f21aee9f007b",
   "metadata": {
    "scrolled": true
   },
   "outputs": [
    {
     "name": "stderr",
     "output_type": "stream",
     "text": [
      "/home/juanfgallo/Documents/projects/academy/Multivariated/Taller1-2/hugging-face-co2-multivariate-analysis/src/clean/dataset_clean.py:48: SettingWithCopyWarning: \n",
      "A value is trying to be set on a copy of a slice from a DataFrame\n",
      "\n",
      "See the caveats in the documentation: https://pandas.pydata.org/pandas-docs/stable/user_guide/indexing.html#returning-a-view-versus-a-copy\n",
      "  df_cleaned.dropna(subset=['size_efficency'], inplace=True)\n"
     ]
    }
   ],
   "source": [
    "clean_utils = DataSetClean()\n",
    "data_frame =  clean_utils.get_data_frame('../assets/HFCO2.csv')"
   ]
  },
  {
   "cell_type": "code",
   "execution_count": 3,
   "id": "b594be06-548f-43c2-8ad1-e5896690e193",
   "metadata": {},
   "outputs": [
    {
     "data": {
      "text/html": [
       "<div>\n",
       "<style scoped>\n",
       "    .dataframe tbody tr th:only-of-type {\n",
       "        vertical-align: middle;\n",
       "    }\n",
       "\n",
       "    .dataframe tbody tr th {\n",
       "        vertical-align: top;\n",
       "    }\n",
       "\n",
       "    .dataframe thead th {\n",
       "        text-align: right;\n",
       "    }\n",
       "</style>\n",
       "<table border=\"1\" class=\"dataframe\">\n",
       "  <thead>\n",
       "    <tr style=\"text-align: right;\">\n",
       "      <th></th>\n",
       "      <th>co2_eq_emissions</th>\n",
       "      <th>downloads</th>\n",
       "      <th>likes</th>\n",
       "      <th>size</th>\n",
       "      <th>size_efficency</th>\n",
       "    </tr>\n",
       "  </thead>\n",
       "  <tbody>\n",
       "    <tr>\n",
       "      <th>0</th>\n",
       "      <td>149200.000000</td>\n",
       "      <td>1172830</td>\n",
       "      <td>170</td>\n",
       "      <td>3.528337e+08</td>\n",
       "      <td>2.364837e+03</td>\n",
       "    </tr>\n",
       "    <tr>\n",
       "      <th>1</th>\n",
       "      <td>133.021988</td>\n",
       "      <td>14</td>\n",
       "      <td>0</td>\n",
       "      <td>3.081921e+08</td>\n",
       "      <td>2.316851e+06</td>\n",
       "    </tr>\n",
       "    <tr>\n",
       "      <th>2</th>\n",
       "      <td>126.344463</td>\n",
       "      <td>14</td>\n",
       "      <td>1</td>\n",
       "      <td>3.083194e+08</td>\n",
       "      <td>2.440308e+06</td>\n",
       "    </tr>\n",
       "    <tr>\n",
       "      <th>3</th>\n",
       "      <td>7.989145</td>\n",
       "      <td>45</td>\n",
       "      <td>0</td>\n",
       "      <td>4.380438e+08</td>\n",
       "      <td>5.482988e+07</td>\n",
       "    </tr>\n",
       "    <tr>\n",
       "      <th>4</th>\n",
       "      <td>55.101963</td>\n",
       "      <td>43</td>\n",
       "      <td>0</td>\n",
       "      <td>4.333314e+08</td>\n",
       "      <td>7.864173e+06</td>\n",
       "    </tr>\n",
       "    <tr>\n",
       "      <th>...</th>\n",
       "      <td>...</td>\n",
       "      <td>...</td>\n",
       "      <td>...</td>\n",
       "      <td>...</td>\n",
       "      <td>...</td>\n",
       "    </tr>\n",
       "    <tr>\n",
       "      <th>1414</th>\n",
       "      <td>0.401257</td>\n",
       "      <td>0</td>\n",
       "      <td>0</td>\n",
       "      <td>1.336520e+09</td>\n",
       "      <td>3.330836e+09</td>\n",
       "    </tr>\n",
       "    <tr>\n",
       "      <th>1415</th>\n",
       "      <td>0.015786</td>\n",
       "      <td>0</td>\n",
       "      <td>0</td>\n",
       "      <td>3.100225e+08</td>\n",
       "      <td>1.963898e+10</td>\n",
       "    </tr>\n",
       "    <tr>\n",
       "      <th>1416</th>\n",
       "      <td>3.673900</td>\n",
       "      <td>0</td>\n",
       "      <td>0</td>\n",
       "      <td>3.100225e+08</td>\n",
       "      <td>8.438513e+07</td>\n",
       "    </tr>\n",
       "    <tr>\n",
       "      <th>1417</th>\n",
       "      <td>5.741513</td>\n",
       "      <td>0</td>\n",
       "      <td>0</td>\n",
       "      <td>3.100225e+08</td>\n",
       "      <td>5.399666e+07</td>\n",
       "    </tr>\n",
       "    <tr>\n",
       "      <th>1418</th>\n",
       "      <td>0.011132</td>\n",
       "      <td>0</td>\n",
       "      <td>0</td>\n",
       "      <td>2.420716e+08</td>\n",
       "      <td>2.174622e+10</td>\n",
       "    </tr>\n",
       "  </tbody>\n",
       "</table>\n",
       "<p>1305 rows × 5 columns</p>\n",
       "</div>"
      ],
      "text/plain": [
       "      co2_eq_emissions  downloads  likes          size  size_efficency\n",
       "0        149200.000000    1172830    170  3.528337e+08    2.364837e+03\n",
       "1           133.021988         14      0  3.081921e+08    2.316851e+06\n",
       "2           126.344463         14      1  3.083194e+08    2.440308e+06\n",
       "3             7.989145         45      0  4.380438e+08    5.482988e+07\n",
       "4            55.101963         43      0  4.333314e+08    7.864173e+06\n",
       "...                ...        ...    ...           ...             ...\n",
       "1414          0.401257          0      0  1.336520e+09    3.330836e+09\n",
       "1415          0.015786          0      0  3.100225e+08    1.963898e+10\n",
       "1416          3.673900          0      0  3.100225e+08    8.438513e+07\n",
       "1417          5.741513          0      0  3.100225e+08    5.399666e+07\n",
       "1418          0.011132          0      0  2.420716e+08    2.174622e+10\n",
       "\n",
       "[1305 rows x 5 columns]"
      ]
     },
     "execution_count": 3,
     "metadata": {},
     "output_type": "execute_result"
    }
   ],
   "source": [
    "data_frame\n"
   ]
  },
  {
   "cell_type": "code",
   "execution_count": 4,
   "id": "380096d9-cfed-4e70-9508-b9b7fe68e647",
   "metadata": {},
   "outputs": [
    {
     "data": {
      "text/plain": [
       "co2_eq_emissions    0.0\n",
       "downloads           0.0\n",
       "likes               0.0\n",
       "size                0.0\n",
       "size_efficency      0.0\n",
       "dtype: float64"
      ]
     },
     "execution_count": 4,
     "metadata": {},
     "output_type": "execute_result"
    }
   ],
   "source": [
    "df_numerico = data_frame.select_dtypes(include=np.number)\n",
    "proporcion_infinitos = (np.isinf(df_numerico).sum() / len(df_numerico)) * 100\n",
    "proporcion_infinitos"
   ]
  },
  {
   "cell_type": "code",
   "execution_count": 5,
   "id": "8bc28685-7440-47e4-bd0b-78a1314d4d76",
   "metadata": {},
   "outputs": [],
   "source": [
    "# se guarda el csv con los resultados de la imputación"
   ]
  },
  {
   "cell_type": "code",
   "execution_count": 6,
   "id": "56168ee2-fe7c-4e65-ae2d-101147466538",
   "metadata": {},
   "outputs": [],
   "source": [
    "# AHora se guarda una copia de ese dataframe imputado en un CSV:\n",
    "data_frame.to_csv('../assets/HFCO2_cleaned_and_imputed.csv', index=False)"
   ]
  },
  {
   "cell_type": "code",
   "execution_count": null,
   "id": "bba843e6-494a-46a9-9000-a4559a5e449d",
   "metadata": {},
   "outputs": [],
   "source": []
  }
 ],
 "metadata": {
  "kernelspec": {
   "display_name": "Python 3 (ipykernel)",
   "language": "python",
   "name": "python3"
  },
  "language_info": {
   "codemirror_mode": {
    "name": "ipython",
    "version": 3
   },
   "file_extension": ".py",
   "mimetype": "text/x-python",
   "name": "python",
   "nbconvert_exporter": "python",
   "pygments_lexer": "ipython3",
   "version": "3.11.13"
  }
 },
 "nbformat": 4,
 "nbformat_minor": 5
}
