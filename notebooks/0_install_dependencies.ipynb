{
 "cells": [
  {
   "cell_type": "code",
   "execution_count": 1,
   "id": "dd9c8001-9cc8-414e-966d-b094243e1ba8",
   "metadata": {},
   "outputs": [
    {
     "name": "stdout",
     "output_type": "stream",
     "text": [
      "Defaulting to user installation because normal site-packages is not writeable\n",
      "Requirement already satisfied: pandas in /home/juanfgallo/.var/app/com.jetbrains.PyCharm-Community/data/python/lib/python3.11/site-packages (2.3.2)\n",
      "Requirement already satisfied: matplotlib in /home/juanfgallo/.var/app/com.jetbrains.PyCharm-Community/data/python/lib/python3.11/site-packages (3.10.6)\n",
      "Requirement already satisfied: numpy in /home/juanfgallo/.var/app/com.jetbrains.PyCharm-Community/data/python/lib/python3.11/site-packages (2.3.2)\n",
      "Requirement already satisfied: scikit-learn in /home/juanfgallo/.var/app/com.jetbrains.PyCharm-Community/data/python/lib/python3.11/site-packages (1.7.1)\n",
      "Requirement already satisfied: factor_analyzer in /home/juanfgallo/.var/app/com.jetbrains.PyCharm-Community/data/python/lib/python3.11/site-packages (0.5.1)\n",
      "Requirement already satisfied: seaborn in /home/juanfgallo/.var/app/com.jetbrains.PyCharm-Community/data/python/lib/python3.11/site-packages (0.13.2)\n",
      "Requirement already satisfied: python-dateutil>=2.8.2 in /home/juanfgallo/.var/app/com.jetbrains.PyCharm-Community/data/python/lib/python3.11/site-packages (from pandas) (2.9.0.post0)\n",
      "Requirement already satisfied: pytz>=2020.1 in /home/juanfgallo/.var/app/com.jetbrains.PyCharm-Community/data/python/lib/python3.11/site-packages (from pandas) (2025.2)\n",
      "Requirement already satisfied: tzdata>=2022.7 in /home/juanfgallo/.var/app/com.jetbrains.PyCharm-Community/data/python/lib/python3.11/site-packages (from pandas) (2025.2)\n",
      "Requirement already satisfied: contourpy>=1.0.1 in /home/juanfgallo/.var/app/com.jetbrains.PyCharm-Community/data/python/lib/python3.11/site-packages (from matplotlib) (1.3.3)\n",
      "Requirement already satisfied: cycler>=0.10 in /home/juanfgallo/.var/app/com.jetbrains.PyCharm-Community/data/python/lib/python3.11/site-packages (from matplotlib) (0.12.1)\n",
      "Requirement already satisfied: fonttools>=4.22.0 in /home/juanfgallo/.var/app/com.jetbrains.PyCharm-Community/data/python/lib/python3.11/site-packages (from matplotlib) (4.59.2)\n",
      "Requirement already satisfied: kiwisolver>=1.3.1 in /home/juanfgallo/.var/app/com.jetbrains.PyCharm-Community/data/python/lib/python3.11/site-packages (from matplotlib) (1.4.9)\n",
      "Requirement already satisfied: packaging>=20.0 in /home/juanfgallo/.var/app/com.jetbrains.PyCharm-Community/data/python/lib/python3.11/site-packages (from matplotlib) (25.0)\n",
      "Requirement already satisfied: pillow>=8 in /home/juanfgallo/.var/app/com.jetbrains.PyCharm-Community/data/python/lib/python3.11/site-packages (from matplotlib) (11.3.0)\n",
      "Requirement already satisfied: pyparsing>=2.3.1 in /home/juanfgallo/.var/app/com.jetbrains.PyCharm-Community/data/python/lib/python3.11/site-packages (from matplotlib) (3.2.3)\n",
      "Requirement already satisfied: scipy>=1.8.0 in /home/juanfgallo/.var/app/com.jetbrains.PyCharm-Community/data/python/lib/python3.11/site-packages (from scikit-learn) (1.16.1)\n",
      "Requirement already satisfied: joblib>=1.2.0 in /home/juanfgallo/.var/app/com.jetbrains.PyCharm-Community/data/python/lib/python3.11/site-packages (from scikit-learn) (1.5.2)\n",
      "Requirement already satisfied: threadpoolctl>=3.1.0 in /home/juanfgallo/.var/app/com.jetbrains.PyCharm-Community/data/python/lib/python3.11/site-packages (from scikit-learn) (3.6.0)\n",
      "Requirement already satisfied: six>=1.5 in /usr/lib/python3.11/site-packages (from python-dateutil>=2.8.2->pandas) (1.17.0)\n",
      "Note: you may need to restart the kernel to use updated packages.\n"
     ]
    }
   ],
   "source": [
    "pip install pandas matplotlib numpy scikit-learn factor_analyzer seaborn"
   ]
  },
  {
   "cell_type": "code",
   "execution_count": null,
   "id": "06aea339-81f9-4251-804f-b518ca383e1b",
   "metadata": {},
   "outputs": [],
   "source": []
  }
 ],
 "metadata": {
  "kernelspec": {
   "display_name": "Python 3 (ipykernel)",
   "language": "python",
   "name": "python3"
  },
  "language_info": {
   "codemirror_mode": {
    "name": "ipython",
    "version": 3
   },
   "file_extension": ".py",
   "mimetype": "text/x-python",
   "name": "python",
   "nbconvert_exporter": "python",
   "pygments_lexer": "ipython3",
   "version": "3.11.13"
  }
 },
 "nbformat": 4,
 "nbformat_minor": 5
}
