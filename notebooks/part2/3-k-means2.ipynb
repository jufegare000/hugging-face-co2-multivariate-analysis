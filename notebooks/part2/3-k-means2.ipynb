{
 "cells": [
  {
   "cell_type": "code",
   "execution_count": 28,
   "id": "67fff9ba-fa7f-4ebc-8013-3e03ee25f69b",
   "metadata": {},
   "outputs": [
    {
     "name": "stdout",
     "output_type": "stream",
     "text": [
      "    k  silhouette  calinski_harabasz  davies_bouldin      inertia  \\\n",
      "0   2    0.285869         289.892108        1.605128  1980.530684   \n",
      "1   3    0.259488         329.863253        1.318154  1546.717729   \n",
      "2   4    0.264396         310.477393        1.239656  1331.888371   \n",
      "3   5    0.234102         277.644150        1.273027  1219.715546   \n",
      "4   6    0.232517         291.155582        1.263305  1049.597593   \n",
      "5   7    0.232594         268.151763        1.301168   988.033647   \n",
      "6   8    0.245509         275.593582        1.243138   880.401617   \n",
      "7   9    0.240813         263.771146        1.217267   829.025288   \n",
      "8  10    0.233687         251.762277        1.214111   789.260625   \n",
      "\n",
      "   ari_vs_is_fair  \n",
      "0       -0.024077  \n",
      "1       -0.011843  \n",
      "2       -0.012889  \n",
      "3        0.032610  \n",
      "4        0.038728  \n",
      "5        0.036601  \n",
      "6        0.018696  \n",
      "7        0.029523  \n",
      "8        0.039346  \n",
      "\n",
      "Mejor k por criterios internos => k=2\n",
      "\n",
      "Archivos guardados en: /home/juanfgallo/Documents/projects/academy/Multivariated/Taller1-2/hugging-face-co2-multivariate-analysis/assets/kmeans_output\n"
     ]
    }
   ],
   "source": [
    "%run ../../src/kmeans/k_means_analysis.py"
   ]
  }
 ],
 "metadata": {
  "kernelspec": {
   "display_name": "Python 3 (ipykernel)",
   "language": "python",
   "name": "python3"
  },
  "language_info": {
   "codemirror_mode": {
    "name": "ipython",
    "version": 3
   },
   "file_extension": ".py",
   "mimetype": "text/x-python",
   "name": "python",
   "nbconvert_exporter": "python",
   "pygments_lexer": "ipython3",
   "version": "3.11.13"
  }
 },
 "nbformat": 4,
 "nbformat_minor": 5
}
