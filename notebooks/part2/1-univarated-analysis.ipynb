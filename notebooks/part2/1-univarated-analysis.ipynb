{
 "cells": [
  {
   "cell_type": "code",
   "execution_count": 36,
   "id": "a0f4cd97-554f-4b57-9c6c-68f4490c8e57",
   "metadata": {},
   "outputs": [],
   "source": [
    "import pandas as pd\n",
    "import numpy as np\n",
    "import json\n",
    "import ast\n",
    "\n"
   ]
  },
  {
   "cell_type": "code",
   "execution_count": 41,
   "id": "c61a40bb-3af5-466a-a7b8-6df91d0c48e9",
   "metadata": {},
   "outputs": [],
   "source": [
    "df = pd.read_csv(\"../../assets/huggingface_co2_clean_pm.csv\")"
   ]
  },
  {
   "cell_type": "code",
   "execution_count": 42,
   "id": "e7c005cd-58d8-457b-9069-d3a188099d54",
   "metadata": {
    "scrolled": true
   },
   "outputs": [
    {
     "data": {
      "text/html": [
       "<div>\n",
       "<style scoped>\n",
       "    .dataframe tbody tr th:only-of-type {\n",
       "        vertical-align: middle;\n",
       "    }\n",
       "\n",
       "    .dataframe tbody tr th {\n",
       "        vertical-align: top;\n",
       "    }\n",
       "\n",
       "    .dataframe thead th {\n",
       "        text-align: right;\n",
       "    }\n",
       "</style>\n",
       "<table border=\"1\" class=\"dataframe\">\n",
       "  <thead>\n",
       "    <tr style=\"text-align: right;\">\n",
       "      <th></th>\n",
       "      <th>modelId</th>\n",
       "      <th>datasets</th>\n",
       "      <th>datasets_size</th>\n",
       "      <th>co2_eq_emissions</th>\n",
       "      <th>co2_reported</th>\n",
       "      <th>source</th>\n",
       "      <th>training_type</th>\n",
       "      <th>geographical_location</th>\n",
       "      <th>environment</th>\n",
       "      <th>performance_score</th>\n",
       "      <th>...</th>\n",
       "      <th>size</th>\n",
       "      <th>created_at</th>\n",
       "      <th>size_efficency</th>\n",
       "      <th>datasets_size_efficency</th>\n",
       "      <th>auto</th>\n",
       "      <th>pm_accuracy</th>\n",
       "      <th>pm_f1</th>\n",
       "      <th>pm_rouge1</th>\n",
       "      <th>pm_rougeL</th>\n",
       "      <th>model_type</th>\n",
       "    </tr>\n",
       "  </thead>\n",
       "  <tbody>\n",
       "    <tr>\n",
       "      <th>0</th>\n",
       "      <td>en_lg</td>\n",
       "      <td>['Eric Peter/autonlp-data-EN-LUG']</td>\n",
       "      <td>NaN</td>\n",
       "      <td>133.021988</td>\n",
       "      <td>1</td>\n",
       "      <td>AutoTrain</td>\n",
       "      <td>Not Specified</td>\n",
       "      <td>Not Specified</td>\n",
       "      <td>Not Specified</td>\n",
       "      <td>0.513276</td>\n",
       "      <td>...</td>\n",
       "      <td>3.081921e+08</td>\n",
       "      <td>2022-01-05</td>\n",
       "      <td>2.316851e+06</td>\n",
       "      <td>NaN</td>\n",
       "      <td>True</td>\n",
       "      <td>NaN</td>\n",
       "      <td>NaN</td>\n",
       "      <td>0.525404</td>\n",
       "      <td>0.501696</td>\n",
       "      <td>type2 (rouge)</td>\n",
       "    </tr>\n",
       "    <tr>\n",
       "      <th>1</th>\n",
       "      <td>lg_en</td>\n",
       "      <td>['EricPeter/autonlp-data-MarianMT_lg_en']</td>\n",
       "      <td>NaN</td>\n",
       "      <td>126.344463</td>\n",
       "      <td>1</td>\n",
       "      <td>AutoTrain</td>\n",
       "      <td>Not Specified</td>\n",
       "      <td>Not Specified</td>\n",
       "      <td>Not Specified</td>\n",
       "      <td>0.602463</td>\n",
       "      <td>...</td>\n",
       "      <td>3.083194e+08</td>\n",
       "      <td>2022-01-05</td>\n",
       "      <td>2.440308e+06</td>\n",
       "      <td>NaN</td>\n",
       "      <td>True</td>\n",
       "      <td>NaN</td>\n",
       "      <td>NaN</td>\n",
       "      <td>0.624613</td>\n",
       "      <td>0.581830</td>\n",
       "      <td>type2 (rouge)</td>\n",
       "    </tr>\n",
       "    <tr>\n",
       "      <th>2</th>\n",
       "      <td>autonlp-triage-35248482</td>\n",
       "      <td>['Aimendo/autonlp-data-triage']</td>\n",
       "      <td>NaN</td>\n",
       "      <td>7.989145</td>\n",
       "      <td>1</td>\n",
       "      <td>AutoTrain</td>\n",
       "      <td>Not Specified</td>\n",
       "      <td>Not Specified</td>\n",
       "      <td>Not Specified</td>\n",
       "      <td>0.961060</td>\n",
       "      <td>...</td>\n",
       "      <td>4.380438e+08</td>\n",
       "      <td>2021-11-23</td>\n",
       "      <td>5.482988e+07</td>\n",
       "      <td>NaN</td>\n",
       "      <td>True</td>\n",
       "      <td>0.972865</td>\n",
       "      <td>0.949538</td>\n",
       "      <td>NaN</td>\n",
       "      <td>NaN</td>\n",
       "      <td>type1 (accuracy &amp; f1)</td>\n",
       "    </tr>\n",
       "    <tr>\n",
       "      <th>3</th>\n",
       "      <td>autonlp-Test-530014983</td>\n",
       "      <td>['Ajay191191/autonlp-data-Test']</td>\n",
       "      <td>NaN</td>\n",
       "      <td>55.101963</td>\n",
       "      <td>1</td>\n",
       "      <td>AutoTrain</td>\n",
       "      <td>Not Specified</td>\n",
       "      <td>Not Specified</td>\n",
       "      <td>Not Specified</td>\n",
       "      <td>0.929787</td>\n",
       "      <td>...</td>\n",
       "      <td>4.333314e+08</td>\n",
       "      <td>2022-01-25</td>\n",
       "      <td>7.864173e+06</td>\n",
       "      <td>NaN</td>\n",
       "      <td>True</td>\n",
       "      <td>0.929884</td>\n",
       "      <td>0.929690</td>\n",
       "      <td>NaN</td>\n",
       "      <td>NaN</td>\n",
       "      <td>type1 (accuracy &amp; f1)</td>\n",
       "    </tr>\n",
       "    <tr>\n",
       "      <th>4</th>\n",
       "      <td>autonlp-Feedback1-479512837</td>\n",
       "      <td>['Anamika/autonlp-data-Feedback1']</td>\n",
       "      <td>NaN</td>\n",
       "      <td>123.880231</td>\n",
       "      <td>1</td>\n",
       "      <td>AutoTrain</td>\n",
       "      <td>Not Specified</td>\n",
       "      <td>Not Specified</td>\n",
       "      <td>Not Specified</td>\n",
       "      <td>0.778492</td>\n",
       "      <td>...</td>\n",
       "      <td>1.123320e+09</td>\n",
       "      <td>2022-01-06</td>\n",
       "      <td>9.067793e+06</td>\n",
       "      <td>NaN</td>\n",
       "      <td>True</td>\n",
       "      <td>0.796112</td>\n",
       "      <td>0.761635</td>\n",
       "      <td>NaN</td>\n",
       "      <td>NaN</td>\n",
       "      <td>type1 (accuracy &amp; f1)</td>\n",
       "    </tr>\n",
       "    <tr>\n",
       "      <th>...</th>\n",
       "      <td>...</td>\n",
       "      <td>...</td>\n",
       "      <td>...</td>\n",
       "      <td>...</td>\n",
       "      <td>...</td>\n",
       "      <td>...</td>\n",
       "      <td>...</td>\n",
       "      <td>...</td>\n",
       "      <td>...</td>\n",
       "      <td>...</td>\n",
       "      <td>...</td>\n",
       "      <td>...</td>\n",
       "      <td>...</td>\n",
       "      <td>...</td>\n",
       "      <td>...</td>\n",
       "      <td>...</td>\n",
       "      <td>...</td>\n",
       "      <td>...</td>\n",
       "      <td>...</td>\n",
       "      <td>...</td>\n",
       "      <td>...</td>\n",
       "    </tr>\n",
       "    <tr>\n",
       "      <th>1073</th>\n",
       "      <td>roberta-frame-CP</td>\n",
       "      <td>['davis901/autotrain-data-imdb-textclassificat...</td>\n",
       "      <td>NaN</td>\n",
       "      <td>3.313266</td>\n",
       "      <td>1</td>\n",
       "      <td>AutoTrain</td>\n",
       "      <td>Not Specified</td>\n",
       "      <td>Not Specified</td>\n",
       "      <td>Not Specified</td>\n",
       "      <td>0.999000</td>\n",
       "      <td>...</td>\n",
       "      <td>1.421587e+09</td>\n",
       "      <td>2023-04-04</td>\n",
       "      <td>4.290592e+08</td>\n",
       "      <td>NaN</td>\n",
       "      <td>True</td>\n",
       "      <td>0.999000</td>\n",
       "      <td>0.999000</td>\n",
       "      <td>NaN</td>\n",
       "      <td>NaN</td>\n",
       "      <td>type1 (accuracy &amp; f1)</td>\n",
       "    </tr>\n",
       "    <tr>\n",
       "      <th>1074</th>\n",
       "      <td>postnashville_antitrans_telegram-46622115298</td>\n",
       "      <td>['sefaozalpadl/autotrain-data-postnashville_an...</td>\n",
       "      <td>NaN</td>\n",
       "      <td>0.443449</td>\n",
       "      <td>1</td>\n",
       "      <td>AutoTrain</td>\n",
       "      <td>Not Specified</td>\n",
       "      <td>Not Specified</td>\n",
       "      <td>Not Specified</td>\n",
       "      <td>0.758460</td>\n",
       "      <td>...</td>\n",
       "      <td>7.377718e+08</td>\n",
       "      <td>2023-04-04</td>\n",
       "      <td>1.663714e+09</td>\n",
       "      <td>NaN</td>\n",
       "      <td>True</td>\n",
       "      <td>0.818000</td>\n",
       "      <td>0.707000</td>\n",
       "      <td>NaN</td>\n",
       "      <td>NaN</td>\n",
       "      <td>type1 (accuracy &amp; f1)</td>\n",
       "    </tr>\n",
       "    <tr>\n",
       "      <th>1075</th>\n",
       "      <td>autotrain-activity_parameters-46735115465</td>\n",
       "      <td>['WilliamWen/autotrain-data-activity_parameters']</td>\n",
       "      <td>NaN</td>\n",
       "      <td>0.804404</td>\n",
       "      <td>1</td>\n",
       "      <td>AutoTrain</td>\n",
       "      <td>Not Specified</td>\n",
       "      <td>Not Specified</td>\n",
       "      <td>Not Specified</td>\n",
       "      <td>0.873792</td>\n",
       "      <td>...</td>\n",
       "      <td>1.336520e+09</td>\n",
       "      <td>2023-04-04</td>\n",
       "      <td>1.661503e+09</td>\n",
       "      <td>NaN</td>\n",
       "      <td>True</td>\n",
       "      <td>0.990000</td>\n",
       "      <td>0.782000</td>\n",
       "      <td>NaN</td>\n",
       "      <td>NaN</td>\n",
       "      <td>type1 (accuracy &amp; f1)</td>\n",
       "    </tr>\n",
       "    <tr>\n",
       "      <th>1076</th>\n",
       "      <td>activity_params_02_the_best</td>\n",
       "      <td>['WilliamWen/autotrain-data-activity_parameter...</td>\n",
       "      <td>NaN</td>\n",
       "      <td>0.401257</td>\n",
       "      <td>1</td>\n",
       "      <td>AutoTrain</td>\n",
       "      <td>Not Specified</td>\n",
       "      <td>Not Specified</td>\n",
       "      <td>Not Specified</td>\n",
       "      <td>0.893609</td>\n",
       "      <td>...</td>\n",
       "      <td>1.336520e+09</td>\n",
       "      <td>2023-04-04</td>\n",
       "      <td>3.330836e+09</td>\n",
       "      <td>NaN</td>\n",
       "      <td>True</td>\n",
       "      <td>0.989000</td>\n",
       "      <td>0.815000</td>\n",
       "      <td>NaN</td>\n",
       "      <td>NaN</td>\n",
       "      <td>type1 (accuracy &amp; f1)</td>\n",
       "    </tr>\n",
       "    <tr>\n",
       "      <th>1077</th>\n",
       "      <td>autotrain-t5-billsum-47010115876</td>\n",
       "      <td>['zap8600/autotrain-data-t5-billsum']</td>\n",
       "      <td>NaN</td>\n",
       "      <td>0.011132</td>\n",
       "      <td>1</td>\n",
       "      <td>AutoTrain</td>\n",
       "      <td>Not Specified</td>\n",
       "      <td>Not Specified</td>\n",
       "      <td>Not Specified</td>\n",
       "      <td>0.183997</td>\n",
       "      <td>...</td>\n",
       "      <td>2.420716e+08</td>\n",
       "      <td>2023-04-05</td>\n",
       "      <td>2.174622e+10</td>\n",
       "      <td>NaN</td>\n",
       "      <td>True</td>\n",
       "      <td>NaN</td>\n",
       "      <td>NaN</td>\n",
       "      <td>0.200020</td>\n",
       "      <td>0.170350</td>\n",
       "      <td>type2 (rouge)</td>\n",
       "    </tr>\n",
       "  </tbody>\n",
       "</table>\n",
       "<p>1078 rows × 24 columns</p>\n",
       "</div>"
      ],
      "text/plain": [
       "                                           modelId  \\\n",
       "0                                            en_lg   \n",
       "1                                            lg_en   \n",
       "2                          autonlp-triage-35248482   \n",
       "3                           autonlp-Test-530014983   \n",
       "4                      autonlp-Feedback1-479512837   \n",
       "...                                            ...   \n",
       "1073                              roberta-frame-CP   \n",
       "1074  postnashville_antitrans_telegram-46622115298   \n",
       "1075     autotrain-activity_parameters-46735115465   \n",
       "1076                   activity_params_02_the_best   \n",
       "1077              autotrain-t5-billsum-47010115876   \n",
       "\n",
       "                                               datasets  datasets_size  \\\n",
       "0                    ['Eric Peter/autonlp-data-EN-LUG']            NaN   \n",
       "1             ['EricPeter/autonlp-data-MarianMT_lg_en']            NaN   \n",
       "2                       ['Aimendo/autonlp-data-triage']            NaN   \n",
       "3                      ['Ajay191191/autonlp-data-Test']            NaN   \n",
       "4                    ['Anamika/autonlp-data-Feedback1']            NaN   \n",
       "...                                                 ...            ...   \n",
       "1073  ['davis901/autotrain-data-imdb-textclassificat...            NaN   \n",
       "1074  ['sefaozalpadl/autotrain-data-postnashville_an...            NaN   \n",
       "1075  ['WilliamWen/autotrain-data-activity_parameters']            NaN   \n",
       "1076  ['WilliamWen/autotrain-data-activity_parameter...            NaN   \n",
       "1077              ['zap8600/autotrain-data-t5-billsum']            NaN   \n",
       "\n",
       "      co2_eq_emissions  co2_reported     source  training_type  \\\n",
       "0           133.021988             1  AutoTrain  Not Specified   \n",
       "1           126.344463             1  AutoTrain  Not Specified   \n",
       "2             7.989145             1  AutoTrain  Not Specified   \n",
       "3            55.101963             1  AutoTrain  Not Specified   \n",
       "4           123.880231             1  AutoTrain  Not Specified   \n",
       "...                ...           ...        ...            ...   \n",
       "1073          3.313266             1  AutoTrain  Not Specified   \n",
       "1074          0.443449             1  AutoTrain  Not Specified   \n",
       "1075          0.804404             1  AutoTrain  Not Specified   \n",
       "1076          0.401257             1  AutoTrain  Not Specified   \n",
       "1077          0.011132             1  AutoTrain  Not Specified   \n",
       "\n",
       "     geographical_location    environment  performance_score  ...  \\\n",
       "0            Not Specified  Not Specified           0.513276  ...   \n",
       "1            Not Specified  Not Specified           0.602463  ...   \n",
       "2            Not Specified  Not Specified           0.961060  ...   \n",
       "3            Not Specified  Not Specified           0.929787  ...   \n",
       "4            Not Specified  Not Specified           0.778492  ...   \n",
       "...                    ...            ...                ...  ...   \n",
       "1073         Not Specified  Not Specified           0.999000  ...   \n",
       "1074         Not Specified  Not Specified           0.758460  ...   \n",
       "1075         Not Specified  Not Specified           0.873792  ...   \n",
       "1076         Not Specified  Not Specified           0.893609  ...   \n",
       "1077         Not Specified  Not Specified           0.183997  ...   \n",
       "\n",
       "              size  created_at size_efficency datasets_size_efficency  auto  \\\n",
       "0     3.081921e+08  2022-01-05   2.316851e+06                     NaN  True   \n",
       "1     3.083194e+08  2022-01-05   2.440308e+06                     NaN  True   \n",
       "2     4.380438e+08  2021-11-23   5.482988e+07                     NaN  True   \n",
       "3     4.333314e+08  2022-01-25   7.864173e+06                     NaN  True   \n",
       "4     1.123320e+09  2022-01-06   9.067793e+06                     NaN  True   \n",
       "...            ...         ...            ...                     ...   ...   \n",
       "1073  1.421587e+09  2023-04-04   4.290592e+08                     NaN  True   \n",
       "1074  7.377718e+08  2023-04-04   1.663714e+09                     NaN  True   \n",
       "1075  1.336520e+09  2023-04-04   1.661503e+09                     NaN  True   \n",
       "1076  1.336520e+09  2023-04-04   3.330836e+09                     NaN  True   \n",
       "1077  2.420716e+08  2023-04-05   2.174622e+10                     NaN  True   \n",
       "\n",
       "     pm_accuracy     pm_f1  pm_rouge1 pm_rougeL             model_type  \n",
       "0            NaN       NaN   0.525404  0.501696          type2 (rouge)  \n",
       "1            NaN       NaN   0.624613  0.581830          type2 (rouge)  \n",
       "2       0.972865  0.949538        NaN       NaN  type1 (accuracy & f1)  \n",
       "3       0.929884  0.929690        NaN       NaN  type1 (accuracy & f1)  \n",
       "4       0.796112  0.761635        NaN       NaN  type1 (accuracy & f1)  \n",
       "...          ...       ...        ...       ...                    ...  \n",
       "1073    0.999000  0.999000        NaN       NaN  type1 (accuracy & f1)  \n",
       "1074    0.818000  0.707000        NaN       NaN  type1 (accuracy & f1)  \n",
       "1075    0.990000  0.782000        NaN       NaN  type1 (accuracy & f1)  \n",
       "1076    0.989000  0.815000        NaN       NaN  type1 (accuracy & f1)  \n",
       "1077         NaN       NaN   0.200020  0.170350          type2 (rouge)  \n",
       "\n",
       "[1078 rows x 24 columns]"
      ]
     },
     "execution_count": 42,
     "metadata": {},
     "output_type": "execute_result"
    }
   ],
   "source": [
    "df"
   ]
  },
  {
   "cell_type": "code",
   "execution_count": 43,
   "id": "cd1c2244-4e63-4e95-9cd1-c5214ea844fe",
   "metadata": {},
   "outputs": [],
   "source": [
    "size_of_dataframe = len(df)"
   ]
  },
  {
   "cell_type": "code",
   "execution_count": 44,
   "id": "7dbf5fa6-e3c5-40f0-b5fa-c376d27625c2",
   "metadata": {},
   "outputs": [
    {
     "data": {
      "text/plain": [
       "model_type\n",
       "type1 (accuracy & f1)    773\n",
       "type2 (rouge)            228\n",
       "type3 (accuracy)          72\n",
       "type5 (rouge1)             3\n",
       "type4 (f1)                 2\n",
       "Name: count, dtype: int64"
      ]
     },
     "execution_count": 44,
     "metadata": {},
     "output_type": "execute_result"
    }
   ],
   "source": [
    "df['model_type'].value_counts()"
   ]
  },
  {
   "cell_type": "code",
   "execution_count": 19,
   "id": "62106486-cf15-4cda-b33c-6237d43c31ac",
   "metadata": {},
   "outputs": [],
   "source": [
    "df_datasets =df['datasets'].value_counts().to_frame('count')"
   ]
  },
  {
   "cell_type": "code",
   "execution_count": 20,
   "id": "f2cc28de-7faf-463d-a009-4231216d9e48",
   "metadata": {},
   "outputs": [],
   "source": [
    "df_para_exportar = df_datasets.reset_index()\n",
    "df_para_exportar = df_para_exportar.rename(columns={'index': 'datasets'})\n",
    "df_para_exportar.to_csv(\"../../assets/huggingface_libs.csv\", index=False)"
   ]
  },
  {
   "cell_type": "code",
   "execution_count": 21,
   "id": "05fbbb10-0c76-4552-8e3a-b4888081b34d",
   "metadata": {
    "scrolled": true
   },
   "outputs": [
    {
     "data": {
      "text/plain": [
       "domain\n",
       "NLP                0.814471\n",
       "Computer Vision    0.160482\n",
       "Not Specified      0.025046\n",
       "Name: count, dtype: float64"
      ]
     },
     "execution_count": 21,
     "metadata": {},
     "output_type": "execute_result"
    }
   ],
   "source": [
    "df['domain'].value_counts()/size_of_dataframe"
   ]
  },
  {
   "cell_type": "code",
   "execution_count": 22,
   "id": "13d4b782-a9d3-4f89-9b38-e2ee4f74f640",
   "metadata": {},
   "outputs": [
    {
     "data": {
      "text/plain": [
       "library_name\n",
       "['transformers', 'pytorch']                                  0.741187\n",
       "['pytorch']                                                  0.220779\n",
       "['joblib']                                                   0.011132\n",
       "['transformers', 'safetensors', 'pytorch']                   0.007421\n",
       "['joblib', 'transformers']                                   0.006494\n",
       "['transformers', 'joblib']                                   0.005566\n",
       "['transformers', 'tf']                                       0.001855\n",
       "['transformers', 'tf', 'pytorch']                            0.000928\n",
       "['pytorch', 'transformers', 'tf']                            0.000928\n",
       "['transformers', 'pytorch', 'tensorboard']                   0.000928\n",
       "['transformers', 'jax', 'safetensors', 'pytorch']            0.000928\n",
       "['transformers', 'onnx', 'pytorch']                          0.000928\n",
       "['tensorboard', 'transformers', 'pytorch', 'safetensors']    0.000928\n",
       "Name: count, dtype: float64"
      ]
     },
     "execution_count": 22,
     "metadata": {},
     "output_type": "execute_result"
    }
   ],
   "source": [
    "df['library_name'].value_counts()/size_of_dataframe"
   ]
  },
  {
   "cell_type": "code",
   "execution_count": 23,
   "id": "f6271816-2d3b-4090-ab65-bf9d8db64b1b",
   "metadata": {},
   "outputs": [
    {
     "data": {
      "text/plain": [
       "geographical_location\n",
       "Not Specified          0.997217\n",
       "Denmark                0.001855\n",
       "Fredericia, Denmark    0.000928\n",
       "Name: count, dtype: float64"
      ]
     },
     "execution_count": 23,
     "metadata": {},
     "output_type": "execute_result"
    }
   ],
   "source": [
    "df['geographical_location'].value_counts()/size_of_dataframe"
   ]
  },
  {
   "cell_type": "code",
   "execution_count": 24,
   "id": "71bbe960-bd1e-493f-ba65-2d1704c954c7",
   "metadata": {},
   "outputs": [
    {
     "data": {
      "text/plain": [
       "environment\n",
       "Not Specified    0.997217\n",
       "1 v100 16GB      0.001855\n",
       "1 Tesla P100     0.000928\n",
       "Name: count, dtype: float64"
      ]
     },
     "execution_count": 24,
     "metadata": {},
     "output_type": "execute_result"
    }
   ],
   "source": [
    "df['environment'].value_counts()/size_of_dataframe"
   ]
  },
  {
   "cell_type": "code",
   "execution_count": 25,
   "id": "39b559ec-7919-47cc-af47-843406bb7d15",
   "metadata": {
    "scrolled": true
   },
   "outputs": [
    {
     "name": "stdout",
     "output_type": "stream",
     "text": [
      "              model_type  performance_score_medio\n",
      "0  tipe1 (accuracy & f1)                 0.794179\n",
      "1          tipe2 (rouge)                 0.435588\n",
      "2       tipe3 (accuracy)                 0.952676\n",
      "3             tipe4 (f1)                      NaN\n",
      "4         tipe5 (rouge1)                      NaN\n"
     ]
    }
   ],
   "source": [
    "df_media_performance = df.groupby('model_type')['performance_score'].mean().reset_index()\n",
    "\n",
    "df_media_performance = df_media_performance.rename(columns={'performance_score': 'performance_score_medio'})\n",
    "\n",
    "print(df_media_performance)"
   ]
  },
  {
   "cell_type": "code",
   "execution_count": 31,
   "id": "9bcd7a12-5196-4f88-92fb-0d9ae4b611c1",
   "metadata": {},
   "outputs": [],
   "source": [
    "#Performance score: the harmonic mean of normalized performance metrics (accuracy, F1, Rouge-1, Rouge-L),\n",
    "#penalizing cases where a single metric is extremely low."
   ]
  },
  {
   "cell_type": "code",
   "execution_count": 45,
   "id": "e54d6fe9-08fb-44ac-9236-ddffd4fe6ad8",
   "metadata": {},
   "outputs": [
    {
     "name": "stdout",
     "output_type": "stream",
     "text": [
      "                       pm_accuracy     pm_f1  pm_rouge1  pm_rougeL  \\\n",
      "model_type                                                           \n",
      "type1 (accuracy & f1)     0.851705  0.770001        NaN        NaN   \n",
      "type2 (rouge)                  NaN       NaN   0.992544    0.82942   \n",
      "type3 (accuracy)          0.936262       NaN        NaN        NaN   \n",
      "type4 (f1)                     NaN  0.790550        NaN        NaN   \n",
      "type5 (rouge1)                 NaN       NaN  34.226400        NaN   \n",
      "\n",
      "                       co2_eq_emissions  \n",
      "model_type                               \n",
      "type1 (accuracy & f1)         26.161696  \n",
      "type2 (rouge)                240.941524  \n",
      "type3 (accuracy)               2.981873  \n",
      "type4 (f1)                  4009.500000  \n",
      "type5 (rouge1)              1219.703210  \n"
     ]
    }
   ],
   "source": [
    "metricas_performance = ['pm_accuracy', 'pm_f1', 'pm_rouge1', 'pm_rougeL', 'co2_eq_emissions']\n",
    "\n",
    "matriz_resultados = df.groupby('model_type')[metricas_performance].mean()\n",
    "\n",
    "print(matriz_resultados)"
   ]
  },
  {
   "cell_type": "code",
   "execution_count": 27,
   "id": "fe3d22ce-3f78-4646-9df9-02d573f7fa2a",
   "metadata": {},
   "outputs": [
    {
     "name": "stdout",
     "output_type": "stream",
     "text": [
      "              model_type  co2_emissions_promedio\n",
      "0  tipe1 (accuracy & f1)               26.161696\n",
      "1          tipe2 (rouge)              240.941524\n",
      "2       tipe3 (accuracy)                2.981873\n",
      "3             tipe4 (f1)             4009.500000\n",
      "4         tipe5 (rouge1)             1219.703210\n"
     ]
    }
   ],
   "source": [
    "df_co2_promedio = df.groupby('model_type')['co2_eq_emissions'].mean().reset_index()\n",
    "\n",
    "df_co2_promedio = df_co2_promedio.rename(columns={'co2_eq_emissions': 'co2_emissions_promedio'})\n",
    "# Mostrar el DataFrame resultante\n",
    "print(df_co2_promedio)\n",
    "#Debería presentarlo como un histograma?"
   ]
  },
  {
   "cell_type": "code",
   "execution_count": 28,
   "id": "ea3bf6cc-1477-498d-839c-b578c95c968e",
   "metadata": {},
   "outputs": [
    {
     "data": {
      "text/plain": [
       "source\n",
       "AutoTrain    1.0\n",
       "Name: count, dtype: float64"
      ]
     },
     "execution_count": 28,
     "metadata": {},
     "output_type": "execute_result"
    }
   ],
   "source": [
    "df['source'].value_counts()/size_of_dataframe"
   ]
  },
  {
   "cell_type": "code",
   "execution_count": 29,
   "id": "56c7daad-79e7-46f2-8b8e-f53ee0b2021f",
   "metadata": {},
   "outputs": [
    {
     "name": "stdout",
     "output_type": "stream",
     "text": [
      "              model_type          size\n",
      "0  tipe1 (accuracy & f1)  6.179107e+08\n",
      "1          tipe2 (rouge)  1.949017e+09\n",
      "2       tipe3 (accuracy)  3.712248e+08\n",
      "3             tipe4 (f1)  5.797940e+07\n",
      "4         tipe5 (rouge1)  1.991398e+09\n"
     ]
    }
   ],
   "source": [
    "df_media_performance = df.groupby('model_type')['size'].mean().reset_index()\n",
    "\n",
    "df_media_performance = df_media_performance.rename(columns={'size': 'size'})\n",
    "\n",
    "print(df_media_performance)"
   ]
  },
  {
   "cell_type": "code",
   "execution_count": 30,
   "id": "3da317a1-e3b2-44ef-8a0d-98f28530510d",
   "metadata": {},
   "outputs": [
    {
     "name": "stdout",
     "output_type": "stream",
     "text": [
      "Umbral de Performance (Mediana): 0.8235\n",
      "Umbral de CO2 (Mediana): 2.7551\n",
      "\n",
      "Conteo de modelos por clasificación:\n",
      "clasificacion_fairness\n",
      "Justo y Eficiente       288\n",
      "Ineficiente             284\n",
      "Ecológico pero Débil    245\n",
      "Potente pero Costoso    241\n",
      "Datos incompletos        20\n",
      "Name: count, dtype: int64\n"
     ]
    }
   ],
   "source": [
    "mediana_performance = df['performance_score'].median()\n",
    "mediana_co2 = df['co2_eq_emissions'].median()\n",
    "\n",
    "print(f\"Umbral de Performance (Mediana): {mediana_performance:.4f}\")\n",
    "print(f\"Umbral de CO2 (Mediana): {mediana_co2:.4f}\")\n",
    "\n",
    "# 2. Crear una función para clasificar cada modelo\n",
    "def clasificar_fairness(row):\n",
    "    # Usamos .loc para evitar errores con valores NaN\n",
    "    performance = row['performance_score']\n",
    "    co2 = row['co2_eq_emissions']\n",
    "    \n",
    "    # Manejar posibles valores nulos antes de comparar\n",
    "    if pd.isna(performance) or pd.isna(co2):\n",
    "        return 'Datos incompletos'\n",
    "    \n",
    "    if performance >= mediana_performance and co2 <= mediana_co2:\n",
    "        return 'Justo y Eficiente'\n",
    "    elif performance >= mediana_performance and co2 > mediana_co2:\n",
    "        return 'Potente pero Costoso'\n",
    "    elif performance < mediana_performance and co2 <= mediana_co2:\n",
    "        return 'Ecológico pero Débil'\n",
    "    else: # performance < mediana_performance and co2 > mediana_co2\n",
    "        return 'Ineficiente'\n",
    "\n",
    "# 3. Aplicar la función para crear una nueva columna de clasificación\n",
    "df['clasificacion_fairness'] = df.apply(clasificar_fairness, axis=1)\n",
    "\n",
    "# Ver los resultados\n",
    "print(\"\\nConteo de modelos por clasificación:\")\n",
    "print(df['clasificacion_fairness'].value_counts())"
   ]
  },
  {
   "cell_type": "code",
   "execution_count": 31,
   "id": "e8195cc7-de9b-458d-9808-4a0762da3871",
   "metadata": {},
   "outputs": [
    {
     "name": "stdout",
     "output_type": "stream",
     "text": [
      "New Columns added to df\n",
      "   pm_rouge1  pm_rougeL             model_type  clasificacion_fairness  \\\n",
      "0   0.525404   0.501696          tipe2 (rouge)             Inefficient   \n",
      "1   0.624613   0.581830          tipe2 (rouge)             Inefficient   \n",
      "2        NaN        NaN  tipe1 (accuracy & f1)  Powerful but Expensive   \n",
      "3        NaN        NaN  tipe1 (accuracy & f1)  Powerful but Expensive   \n",
      "4        NaN        NaN  tipe1 (accuracy & f1)             Inefficient   \n",
      "\n",
      "   is_fair  \n",
      "0    False  \n",
      "1    False  \n",
      "2    False  \n",
      "3    False  \n",
      "4    False  \n"
     ]
    }
   ],
   "source": [
    "mediana_performance = df['performance_score'].median()\n",
    "mediana_co2 = df['co2_eq_emissions'].median()\n",
    "\n",
    "# 2. Definir la función de clasificación\n",
    "def clasificar_fairness(row):\n",
    "    performance = row['performance_score']\n",
    "    co2 = row['co2_eq_emissions']\n",
    "    \n",
    "    if pd.isna(performance) or pd.isna(co2):\n",
    "        return 'Incomplete data'\n",
    "    \n",
    "    if performance >= mediana_performance and co2 <= mediana_co2:\n",
    "        return 'Fair and Efficient'\n",
    "    elif performance >= mediana_performance and co2 > mediana_co2:\n",
    "        return 'Powerful but Expensive'\n",
    "    elif performance < mediana_performance and co2 <= mediana_co2:\n",
    "        return 'Green but Weak'\n",
    "    else:\n",
    "        return 'Inefficient'\n",
    "\n",
    "df['clasificacion_fairness'] = df.apply(clasificar_fairness, axis=1)\n",
    "df['is_fair'] = (df['clasificacion_fairness'] == 'Fair and Efficient')\n",
    "\n",
    "\n",
    "print(\"New Columns added to df\")\n",
    "print(df.iloc[:, -5:].head())"
   ]
  },
  {
   "cell_type": "code",
   "execution_count": 32,
   "id": "9c37b00e-e096-4dc4-ab53-f365ca68b0af",
   "metadata": {},
   "outputs": [],
   "source": [
    "df.to_csv(\"../../assets/huggingface_with_fairness.csv\", index=False)"
   ]
  },
  {
   "cell_type": "code",
   "execution_count": 33,
   "id": "a6e837dc-9b39-45c8-8b48-abee7109c2b5",
   "metadata": {
    "scrolled": true
   },
   "outputs": [
    {
     "data": {
      "text/plain": [
       "model_type             is_fair\n",
       "tipe1 (accuracy & f1)  False      544\n",
       "                       True       229\n",
       "tipe2 (rouge)          False      219\n",
       "                       True         9\n",
       "tipe3 (accuracy)       True        50\n",
       "                       False       22\n",
       "tipe4 (f1)             False        2\n",
       "tipe5 (rouge1)         False        3\n",
       "Name: count, dtype: int64"
      ]
     },
     "execution_count": 33,
     "metadata": {},
     "output_type": "execute_result"
    }
   ],
   "source": [
    "df.groupby('model_type')['is_fair'].value_counts()"
   ]
  },
  {
   "cell_type": "code",
   "execution_count": 34,
   "id": "48d64cc7-9232-46f2-8700-375b88c9cb70",
   "metadata": {},
   "outputs": [
    {
     "data": {
      "text/plain": [
       "Series([], Name: count, dtype: int64)"
      ]
     },
     "execution_count": 34,
     "metadata": {},
     "output_type": "execute_result"
    }
   ],
   "source": [
    "df.groupby('clasificacion_fairness').value_counts()"
   ]
  },
  {
   "cell_type": "code",
   "execution_count": 35,
   "id": "ac578233-c492-4a2a-8c4b-9cd7e8871b54",
   "metadata": {},
   "outputs": [
    {
     "data": {
      "text/plain": [
       "model_type             clasificacion_fairness\n",
       "tipe1 (accuracy & f1)  Fair and Efficient        229\n",
       "                       Powerful but Expensive    214\n",
       "                       Green but Weak            181\n",
       "                       Inefficient               142\n",
       "                       Incomplete data             7\n",
       "tipe2 (rouge)          Inefficient               140\n",
       "                       Green but Weak             57\n",
       "                       Powerful but Expensive     18\n",
       "                       Fair and Efficient          9\n",
       "                       Incomplete data             4\n",
       "tipe3 (accuracy)       Fair and Efficient         50\n",
       "                       Powerful but Expensive      9\n",
       "                       Green but Weak              7\n",
       "                       Incomplete data             4\n",
       "                       Inefficient                 2\n",
       "tipe4 (f1)             Incomplete data             2\n",
       "tipe5 (rouge1)         Incomplete data             3\n",
       "Name: count, dtype: int64"
      ]
     },
     "execution_count": 35,
     "metadata": {},
     "output_type": "execute_result"
    }
   ],
   "source": [
    "df.groupby('model_type')['clasificacion_fairness'].value_counts()"
   ]
  }
 ],
 "metadata": {
  "kernelspec": {
   "display_name": "Python 3 (ipykernel)",
   "language": "python",
   "name": "python3"
  },
  "language_info": {
   "codemirror_mode": {
    "name": "ipython",
    "version": 3
   },
   "file_extension": ".py",
   "mimetype": "text/x-python",
   "name": "python",
   "nbconvert_exporter": "python",
   "pygments_lexer": "ipython3",
   "version": "3.11.13"
  }
 },
 "nbformat": 4,
 "nbformat_minor": 5
}
