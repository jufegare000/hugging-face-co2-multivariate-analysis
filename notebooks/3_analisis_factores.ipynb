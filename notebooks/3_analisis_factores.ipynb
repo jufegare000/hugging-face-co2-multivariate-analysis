{
 "cells": [
  {
   "cell_type": "code",
   "execution_count": 1,
   "id": "58ad4131-43f5-442a-9411-0e2cb0fa4bd5",
   "metadata": {},
   "outputs": [],
   "source": [
    "import sys\n",
    "import os\n",
    "import pandas as pd\n",
    "import numpy as np\n",
    "from sklearn.decomposition import PCA\n",
    "from sklearn.preprocessing import StandardScaler\n",
    "from factor_analyzer import FactorAnalyzer\n",
    "import matplotlib.pyplot as plt\n",
    "import seaborn as sns\n",
    "\n",
    "\n",
    "current_dir = os.path.abspath('')\n",
    "parent_dir = os.path.dirname(current_dir)\n",
    "src_dir = os.path.join(parent_dir, 'src')\n",
    "sys.path.insert(0, src_dir)\n",
    "\n",
    "from components_and_factors.components_factors import ComponentsAndFactors"
   ]
  },
  {
   "cell_type": "code",
   "execution_count": 2,
   "id": "93ea232c-b8fd-4f0b-808b-b712e8b16083",
   "metadata": {},
   "outputs": [],
   "source": [
    "components_utils = ComponentsAndFactors()\n",
    "imputed_dataframe = pd.read_csv('../assets/HFCO2_cleaned_and_imputed.csv')\n"
   ]
  },
  {
   "cell_type": "code",
   "execution_count": 3,
   "id": "d4afcee4-b59c-41c7-b520-59e6ec8b254f",
   "metadata": {},
   "outputs": [],
   "source": [
    "# Se ecala la matriz y luego se convierte en dataframe\n",
    "scaler = StandardScaler()\n",
    "df_scaled = components_utils.get_data_frame_scaled(imputed_dataframe)"
   ]
  },
  {
   "cell_type": "code",
   "execution_count": 4,
   "id": "baff77aa-8e19-47fd-84f7-f30ca60cc44a",
   "metadata": {},
   "outputs": [],
   "source": [
    "# Inicializamos y ajustamos el modelo de PCA\n",
    "# No especificamos el número de componentes para obtener todos ellos\n",
    "pca = PCA(n_components=df_scaled.shape[1])\n",
    "principal_components_matrix = pca.fit_transform(df_scaled)"
   ]
  },
  {
   "cell_type": "code",
   "execution_count": 5,
   "id": "b79fd2f2-e99b-4e9d-bb54-4300c2b7002a",
   "metadata": {},
   "outputs": [],
   "source": [
    "# Obtener los valores propios (varianza explicada por cada componente)\n",
    "# Estos son equivalentes a los valores propios de la matriz de correlación\n",
    "eigenvalues_pca = pca.explained_variance_\n",
    "\n",
    "# Obtener los vectores propios (componentes principales)\n",
    "eigenvectors_pca = pca.components_"
   ]
  },
  {
   "cell_type": "code",
   "execution_count": 6,
   "id": "9de4a333-2a5a-4f27-bcce-491e3b0606c8",
   "metadata": {},
   "outputs": [
    {
     "name": "stdout",
     "output_type": "stream",
     "text": [
      "Valores Propios (Varianza Explicada) para ACP:\n",
      "[2.98929545 1.01247282 0.98827442 0.01036584 0.00342583]\n"
     ]
    }
   ],
   "source": [
    "print(\"Valores Propios (Varianza Explicada) para ACP:\")\n",
    "print(eigenvalues_pca)\n"
   ]
  },
  {
   "cell_type": "code",
   "execution_count": 7,
   "id": "b39261cc-6f22-4de8-9f7a-95706230ee9c",
   "metadata": {},
   "outputs": [
    {
     "data": {
      "text/html": [
       "<div>\n",
       "<style scoped>\n",
       "    .dataframe tbody tr th:only-of-type {\n",
       "        vertical-align: middle;\n",
       "    }\n",
       "\n",
       "    .dataframe tbody tr th {\n",
       "        vertical-align: top;\n",
       "    }\n",
       "\n",
       "    .dataframe thead th {\n",
       "        text-align: right;\n",
       "    }\n",
       "</style>\n",
       "<table border=\"1\" class=\"dataframe\">\n",
       "  <thead>\n",
       "    <tr style=\"text-align: right;\">\n",
       "      <th></th>\n",
       "      <th>Varianza Explicada (%)</th>\n",
       "      <th>Varianza Acumulada (%)</th>\n",
       "    </tr>\n",
       "  </thead>\n",
       "  <tbody>\n",
       "    <tr>\n",
       "      <th>PC1</th>\n",
       "      <td>59.740096</td>\n",
       "      <td>59.740096</td>\n",
       "    </tr>\n",
       "    <tr>\n",
       "      <th>PC2</th>\n",
       "      <td>20.233939</td>\n",
       "      <td>79.974035</td>\n",
       "    </tr>\n",
       "    <tr>\n",
       "      <th>PC3</th>\n",
       "      <td>19.750342</td>\n",
       "      <td>99.724378</td>\n",
       "    </tr>\n",
       "    <tr>\n",
       "      <th>PC4</th>\n",
       "      <td>0.207158</td>\n",
       "      <td>99.931536</td>\n",
       "    </tr>\n",
       "    <tr>\n",
       "      <th>PC5</th>\n",
       "      <td>0.068464</td>\n",
       "      <td>100.000000</td>\n",
       "    </tr>\n",
       "  </tbody>\n",
       "</table>\n",
       "</div>"
      ],
      "text/plain": [
       "     Varianza Explicada (%)  Varianza Acumulada (%)\n",
       "PC1               59.740096               59.740096\n",
       "PC2               20.233939               79.974035\n",
       "PC3               19.750342               99.724378\n",
       "PC4                0.207158               99.931536\n",
       "PC5                0.068464              100.000000"
      ]
     },
     "execution_count": 7,
     "metadata": {},
     "output_type": "execute_result"
    }
   ],
   "source": [
    "# Presentación de matriz de varianza explicada y acumulada pro componente\n",
    "explained_matrix = components_utils.get_explained_matrix(pca)\n",
    "explained_matrix"
   ]
  },
  {
   "cell_type": "code",
   "execution_count": 8,
   "id": "e2e23f98-eaa1-489d-b600-072dc918b0a4",
   "metadata": {
    "scrolled": true
   },
   "outputs": [
    {
     "name": "stdout",
     "output_type": "stream",
     "text": [
      "\n",
      "Matriz de Vectores Propios (Componentes Principales) para ACP:\n",
      "[[ 2.33532794e+00 -1.78033144e+01  1.79404804e+01  1.03228305e-02\n",
      "  -1.24890553e-02]\n",
      " [-9.75406004e-02 -1.62545963e-01 -2.16024346e-01 -5.23072055e-02\n",
      "   2.48376989e-02]\n",
      " [-9.09650583e-02 -1.62704677e-01 -2.15831290e-01 -5.95444491e-02\n",
      "   1.89945445e-02]\n",
      " ...\n",
      " [-9.75748867e-02 -1.60914415e-01 -2.14860414e-01 -5.21731287e-02\n",
      "   2.46254951e-02]\n",
      " [-9.75686648e-02 -1.61439977e-01 -2.15371848e-01 -5.21707321e-02\n",
      "   2.46272854e-02]\n",
      " [-1.04525601e-01  2.13501476e-01  1.49877165e-01 -5.91079107e-02\n",
      "   2.70207123e-02]]\n"
     ]
    }
   ],
   "source": [
    "print(\"\\nMatriz de Vectores Propios (Componentes Principales) para ACP:\")\n",
    "print(principal_components_matrix)"
   ]
  },
  {
   "cell_type": "code",
   "execution_count": 9,
   "id": "0e2c30fc-cc2c-458f-90c3-cb7132393eaf",
   "metadata": {},
   "outputs": [],
   "source": [
    "df_matrix_pca = pd.DataFrame(np.array(principal_components_matrix))"
   ]
  },
  {
   "cell_type": "code",
   "execution_count": 10,
   "id": "b9c851cf-c70f-4479-852f-6ae53510e6f0",
   "metadata": {},
   "outputs": [
    {
     "data": {
      "text/html": [
       "<div>\n",
       "<style scoped>\n",
       "    .dataframe tbody tr th:only-of-type {\n",
       "        vertical-align: middle;\n",
       "    }\n",
       "\n",
       "    .dataframe tbody tr th {\n",
       "        vertical-align: top;\n",
       "    }\n",
       "\n",
       "    .dataframe thead th {\n",
       "        text-align: right;\n",
       "    }\n",
       "</style>\n",
       "<table border=\"1\" class=\"dataframe\">\n",
       "  <thead>\n",
       "    <tr style=\"text-align: right;\">\n",
       "      <th></th>\n",
       "      <th>0</th>\n",
       "      <th>1</th>\n",
       "      <th>2</th>\n",
       "      <th>3</th>\n",
       "      <th>4</th>\n",
       "    </tr>\n",
       "  </thead>\n",
       "  <tbody>\n",
       "    <tr>\n",
       "      <th>0</th>\n",
       "      <td>0.577316</td>\n",
       "      <td>0.046808</td>\n",
       "      <td>0.576992</td>\n",
       "      <td>0.575811</td>\n",
       "      <td>-0.006103</td>\n",
       "    </tr>\n",
       "    <tr>\n",
       "      <th>1</th>\n",
       "      <td>0.033311</td>\n",
       "      <td>-0.694907</td>\n",
       "      <td>-0.014137</td>\n",
       "      <td>0.044854</td>\n",
       "      <td>0.716786</td>\n",
       "    </tr>\n",
       "    <tr>\n",
       "      <th>2</th>\n",
       "      <td>-0.030892</td>\n",
       "      <td>0.715026</td>\n",
       "      <td>0.016774</td>\n",
       "      <td>-0.036570</td>\n",
       "      <td>0.697255</td>\n",
       "    </tr>\n",
       "    <tr>\n",
       "      <th>3</th>\n",
       "      <td>-0.125982</td>\n",
       "      <td>0.052016</td>\n",
       "      <td>-0.636109</td>\n",
       "      <td>0.759456</td>\n",
       "      <td>-0.003788</td>\n",
       "    </tr>\n",
       "    <tr>\n",
       "      <th>4</th>\n",
       "      <td>0.805463</td>\n",
       "      <td>0.030748</td>\n",
       "      <td>-0.511825</td>\n",
       "      <td>-0.297184</td>\n",
       "      <td>0.000881</td>\n",
       "    </tr>\n",
       "  </tbody>\n",
       "</table>\n",
       "</div>"
      ],
      "text/plain": [
       "          0         1         2         3         4\n",
       "0  0.577316  0.046808  0.576992  0.575811 -0.006103\n",
       "1  0.033311 -0.694907 -0.014137  0.044854  0.716786\n",
       "2 -0.030892  0.715026  0.016774 -0.036570  0.697255\n",
       "3 -0.125982  0.052016 -0.636109  0.759456 -0.003788\n",
       "4  0.805463  0.030748 -0.511825 -0.297184  0.000881"
      ]
     },
     "execution_count": 10,
     "metadata": {},
     "output_type": "execute_result"
    }
   ],
   "source": [
    "df_eigenvectors = pd.DataFrame(eigenvectors_pca)\n",
    "df_eigenvectors"
   ]
  },
  {
   "cell_type": "code",
   "execution_count": 11,
   "id": "2b952049-c236-4db1-b71d-c641899fcf19",
   "metadata": {},
   "outputs": [
    {
     "data": {
      "image/png": "[encoded data removed]",
      "text/plain": [
       "<Figure size 500x300 with 2 Axes>"
      ]
     },
     "metadata": {},
     "output_type": "display_data"
    }
   ],
   "source": [
    "components_utils.plot_dispersion_diagram(df_matrix_pca)"
   ]
  },
  {
   "cell_type": "code",
   "execution_count": 12,
   "id": "f249340e-0dd2-4007-a87a-de6ab88c95e2",
   "metadata": {},
   "outputs": [
    {
     "name": "stdout",
     "output_type": "stream",
     "text": [
      "Valores Propios de la matriz de correlación (para AF):\n",
      "[2.9870048  1.01169697 0.98751712 0.0103579  0.00342321]\n"
     ]
    }
   ],
   "source": [
    "# Usaremos los mismos datos estandarizados que en el ejemplo de ACP.\n",
    "# (df_scaled de la sección anterior)\n",
    "\n",
    "# 1. Obtención de los valores propios de la matriz de correlación\n",
    "# Esto es necesario para la regla de Kaiser, ya que FactorAnalysis no los expone directamente.\n",
    "eigenvalues_fa, eigenvectors_fa = components_utils.get_eigenvaules_and_vectors_fa(df_scaled)\n",
    "print(\"Valores Propios de la matriz de correlación (para AF):\")\n",
    "print(eigenvalues_fa)\n"
   ]
  },
  {
   "cell_type": "code",
   "execution_count": 13,
   "id": "dd5f6c92-c5ba-4589-96a4-82acb568b494",
   "metadata": {},
   "outputs": [
    {
     "name": "stdout",
     "output_type": "stream",
     "text": [
      "\n",
      "Usando la regla de Kaiser, el número de factores a extraer es: 2\n"
     ]
    }
   ],
   "source": [
    "# 2. Decisión del número de factores\n",
    "# Usando la regla de Kaiser (eigenvalue > 1).\n",
    "n_factors = sum(eigenvalues_fa > 1)\n",
    "print(f\"\\nUsando la regla de Kaiser, el número de factores a extraer es: {n_factors}\")"
   ]
  },
  {
   "cell_type": "code",
   "execution_count": 14,
   "id": "c6aa8fd5-879b-4f83-a68e-104affa3796a",
   "metadata": {},
   "outputs": [
    {
     "ename": "NameError",
     "evalue": "name 'FactorAnalysis' is not defined",
     "output_type": "error",
     "traceback": [
      "\u001b[31m---------------------------------------------------------------------------\u001b[39m",
      "\u001b[31mNameError\u001b[39m                                 Traceback (most recent call last)",
      "\u001b[36mCell\u001b[39m\u001b[36m \u001b[39m\u001b[32mIn[14]\u001b[39m\u001b[32m, line 2\u001b[39m\n\u001b[32m      1\u001b[39m \u001b[38;5;66;03m# 3. Ajuste del modelo de Análisis Factorial con el número de factores encontrado\u001b[39;00m\n\u001b[32m----> \u001b[39m\u001b[32m2\u001b[39m fa = \u001b[43mFactorAnalysis\u001b[49m(n_components=n_factors, random_state=\u001b[32m0\u001b[39m)\n\u001b[32m      3\u001b[39m fa.fit(df_scaled)\n",
      "\u001b[31mNameError\u001b[39m: name 'FactorAnalysis' is not defined"
     ]
    }
   ],
   "source": [
    "# 3. Ajuste del modelo de Análisis Factorial con el número de factores encontrado\n",
    "fa = FactorAnalysis(n_components=n_factors, random_state=0)\n",
    "fa.fit(df_scaled)\n"
   ]
  },
  {
   "cell_type": "code",
   "execution_count": 16,
   "id": "3c972e31-eda9-4042-b075-a6005c5171a0",
   "metadata": {},
   "outputs": [
    {
     "name": "stdout",
     "output_type": "stream",
     "text": [
      "\n",
      "Cargas Factoriales (Factor Loadings) del Análisis Factorial:\n",
      "                  Factor 1  Factor 2\n",
      "co2_eq_emissions  0.999200 -0.020756\n",
      "downloads         0.050560  0.718192\n",
      "likes             0.995705  0.071960\n",
      "size              0.993753 -0.038490\n",
      "size_efficency   -0.007694 -0.021684\n"
     ]
    }
   ],
   "source": [
    "# 4. Obtención de las cargas factoriales\n",
    "# En el AF, la salida más importante no son los vectores propios, sino las cargas factoriales,\n",
    "# que te dicen cuánto contribuye cada variable a cada factor latente.\n",
    "factor_loadings = components_utils.get_loadings_fa(fa, df_scaled, n_factors)\n",
    "print(\"\\nCargas Factoriales (Factor Loadings) del Análisis Factorial:\")\n",
    "print(factor_loadings)"
   ]
  },
  {
   "cell_type": "code",
   "execution_count": 17,
   "id": "feaefccc-9251-4deb-accb-d279dc829f5d",
   "metadata": {},
   "outputs": [],
   "source": [
    "# ¿Qué información se puede extraer de los valores y vectores propios obtenidos?"
   ]
  },
  {
   "cell_type": "code",
   "execution_count": 18,
   "id": "7a1de263-94c2-4506-b47b-19a0a2593b43",
   "metadata": {},
   "outputs": [
    {
     "data": {
      "image/png": "[encoded data removed]",
      "text/plain": [
       "<Figure size 500x500 with 1 Axes>"
      ]
     },
     "metadata": {},
     "output_type": "display_data"
    }
   ],
   "source": [
    "\n",
    "components_utils.plot_sediment_diagram(eigenvalues_fa)"
   ]
  },
  {
   "cell_type": "code",
   "execution_count": 19,
   "id": "8a456dc8-b9b6-4ecd-9148-3d2db86b69be",
   "metadata": {},
   "outputs": [
    {
     "data": {
      "image/png": "[encoded data removed]",
      "text/plain": [
       "<Figure size 1200x600 with 1 Axes>"
      ]
     },
     "metadata": {},
     "output_type": "display_data"
    }
   ],
   "source": [
    "components_utils.plot_biplot_pca(principal_components_matrix, list(imputed_dataframe.columns))\n",
    "\n"
   ]
  },
  {
   "cell_type": "code",
   "execution_count": 30,
   "id": "e954435e-b822-45b2-bb76-4d9dc4f1f6cb",
   "metadata": {
    "scrolled": true
   },
   "outputs": [
    {
     "name": "stderr",
     "output_type": "stream",
     "text": [
      "/home/juanfgallo/.var/app/com.jetbrains.PyCharm-Community/data/python/lib/python3.11/site-packages/sklearn/utils/deprecation.py:132: FutureWarning: 'force_all_finite' was renamed to 'ensure_all_finite' in 1.6 and will be removed in 1.8.\n",
      "  warnings.warn(\n"
     ]
    }
   ],
   "source": [
    "from factor_analyzer import FactorAnalyzer\n",
    "\n",
    "# This is the correct class name\n",
    "fa = FactorAnalyzer(n_factors=2, rotation='varimax')\n",
    "\n",
    "# Assuming df_scaled is your DataFrame with scaled data\n",
    "fa.fit(df_scaled)\n",
    "\n",
    "# Now, this line will work correctly\n",
    "cargas_factoriales = fa.loadings_"
   ]
  },
  {
   "cell_type": "code",
   "execution_count": 58,
   "id": "235b7a63-3443-48d2-b446-050b46dfa27d",
   "metadata": {},
   "outputs": [
    {
     "data": {
      "text/plain": [
       "array([[ 0.99546117,  0.0763378 ],\n",
       "       [-0.01976169,  0.72523829],\n",
       "       [ 0.98378911,  0.16743761],\n",
       "       [ 0.99329011,  0.05933778],\n",
       "       [-0.00493174, -0.01763173]])"
      ]
     },
     "execution_count": 58,
     "metadata": {},
     "output_type": "execute_result"
    }
   ],
   "source": [
    "cargas_factoriales"
   ]
  },
  {
   "cell_type": "code",
   "execution_count": 49,
   "id": "37e87287-cc30-4987-aeca-2a6d15a8cae9",
   "metadata": {},
   "outputs": [
    {
     "name": "stderr",
     "output_type": "stream",
     "text": [
      "/home/juanfgallo/.var/app/com.jetbrains.PyCharm-Community/data/python/lib/python3.11/site-packages/sklearn/utils/deprecation.py:132: FutureWarning: 'force_all_finite' was renamed to 'ensure_all_finite' in 1.6 and will be removed in 1.8.\n",
      "  warnings.warn(\n"
     ]
    }
   ],
   "source": [
    "puntuaciones_factoriales = fa.transform(df_scaled)\n"
   ]
  },
  {
   "cell_type": "code",
   "execution_count": 14,
   "id": "e36d9a5f-7a23-4b88-b1d1-92edca1f9782",
   "metadata": {},
   "outputs": [
    {
     "ename": "NameError",
     "evalue": "name 'imputed_dataframe' is not defined",
     "output_type": "error",
     "traceback": [
      "\u001b[31m---------------------------------------------------------------------------\u001b[39m",
      "\u001b[31mNameError\u001b[39m                                 Traceback (most recent call last)",
      "\u001b[36mCell\u001b[39m\u001b[36m \u001b[39m\u001b[32mIn[14]\u001b[39m\u001b[32m, line 1\u001b[39m\n\u001b[32m----> \u001b[39m\u001b[32m1\u001b[39m \u001b[43mimputed_dataframe\u001b[49m\n",
      "\u001b[31mNameError\u001b[39m: name 'imputed_dataframe' is not defined"
     ]
    }
   ],
   "source": [
    "imputed_dataframe"
   ]
  },
  {
   "cell_type": "code",
   "execution_count": 20,
   "id": "3ae655c9-b1be-4e4d-bf23-8ccaeb926842",
   "metadata": {},
   "outputs": [
    {
     "ename": "NameError",
     "evalue": "name 'FactorAnalyzer' is not defined",
     "output_type": "error",
     "traceback": [
      "\u001b[31m---------------------------------------------------------------------------\u001b[39m",
      "\u001b[31mNameError\u001b[39m                                 Traceback (most recent call last)",
      "\u001b[36mCell\u001b[39m\u001b[36m \u001b[39m\u001b[32mIn[20]\u001b[39m\u001b[32m, line 9\u001b[39m\n\u001b[32m      6\u001b[39m df_scaled = pd.DataFrame(df_scaled, columns=imputed_dartaframe.columns)\n\u001b[32m      8\u001b[39m \u001b[38;5;66;03m# --- Paso 3: Realiza el Análisis de Factores Principales ---\u001b[39;00m\n\u001b[32m----> \u001b[39m\u001b[32m9\u001b[39m fa = \u001b[43mFactorAnalyzer\u001b[49m(n_factors=\u001b[32m2\u001b[39m, rotation=\u001b[33m'\u001b[39m\u001b[33mvarimax\u001b[39m\u001b[33m'\u001b[39m)\n\u001b[32m     10\u001b[39m fa.fit(df_scaled)\n\u001b[32m     12\u001b[39m \u001b[38;5;66;03m# --- Paso 4: Obtén las cargas y puntuaciones ---\u001b[39;00m\n",
      "\u001b[31mNameError\u001b[39m: name 'FactorAnalyzer' is not defined"
     ]
    }
   ],
   "source": [
    "scaler = StandardScaler()\n",
    "df_scaled = scaler.fit_transform(imputed_dartaframe)\n",
    "\n",
    "# La función fit_transform devuelve un array de NumPy.\n",
    "# Lo convertimos de nuevo a DataFrame para mantener los nombres de las columnas.\n",
    "df_scaled = pd.DataFrame(df_scaled, columns=imputed_dartaframe.columns)\n",
    "\n",
    "# --- Paso 3: Realiza el Análisis de Factores Principales ---\n",
    "fa = FactorAnalyzer(n_factors=2, rotation='varimax')\n",
    "fa.fit(df_scaled)\n",
    "\n",
    "# --- Paso 4: Obtén las cargas y puntuaciones ---\n",
    "cargas_factoriales = fa.loadings_\n",
    "puntuaciones_factoriales = fa.transform(df_scaled)\n",
    "\n",
    "# --- Paso 5: Define la función biplot mejorada ---\n",
    "# Esta función es más robusta y maneja mejor los diferentes tipos de datos.\n",
    "def biplot_mejorado(score, coeff, labels=None):\n",
    "    xs = score[:, 0]\n",
    "    ys = score[:, 1]\n",
    "    n = coeff.shape[0]\n",
    "    plt.figure(figsize=(10, 8)) # Ajustar el tamaño del gráfico\n",
    "    \n",
    "    # Graficar las observaciones\n",
    "    plt.scatter(xs, ys, s=50, alpha=0.6, label='Observaciones')\n",
    "    \n",
    "    # Asegurar que las cargas sean un array de NumPy\n",
    "    if isinstance(coeff, pd.DataFrame):\n",
    "        coeff = coeff.values\n",
    "    \n",
    "    # Graficar las flechas de las variables\n",
    "    for i in range(n):\n",
    "        plt.arrow(0, 0, coeff[i, 0], coeff[i, 1], color='r', alpha=0.9, head_width=0.05, head_length=0.05)\n",
    "        if labels is None:\n",
    "            plt.text(coeff[i, 0] * 1.15, coeff[i, 1] * 1.15, \"Var\" + str(i + 1), color='g', ha='center', va='center', fontsize=12)\n",
    "        else:\n",
    "            plt.text(coeff[i, 0] * 1.15, coeff[i, 1] * 1.15, labels[i], color='g', ha='center', va='center', fontsize=12)\n",
    "    \n",
    "    # Ajustar los límites de los ejes para una mejor visualización\n",
    "    # Se utiliza un valor fijo para asegurarse de que las flechas se vean claramente\n",
    "    plt.xlim(-1.2, 1.2)\n",
    "    plt.ylim(-1.2, 1.2)\n",
    "    \n",
    "    plt.xlabel(\"Factor 1\", fontsize=14)\n",
    "    plt.ylabel(\"Factor 2\", fontsize=14)\n",
    "    plt.title('Biplot del Análisis de Factores', fontsize=16)\n",
    "    plt.grid()\n",
    "    plt.axhline(0, color='gray', lw=0.5)\n",
    "    plt.axvline(0, color='gray', lw=0.5)\n",
    "    plt.legend()\n",
    "    plt.show()\n",
    "\n",
    "# --- Paso 6: Llama a la función con los resultados del análisis ---\n",
    "biplot_mejorado(puntuaciones_factoriales, cargas_factoriales, labels=df_scaled.columns)"
   ]
  },
  {
   "cell_type": "code",
   "execution_count": null,
   "id": "818b7f71-d049-4fe3-838f-5ac777a09292",
   "metadata": {},
   "outputs": [],
   "source": []
  }
 ],
 "metadata": {
  "kernelspec": {
   "display_name": "Python 3 (ipykernel)",
   "language": "python",
   "name": "python3"
  },
  "language_info": {
   "codemirror_mode": {
    "name": "ipython",
    "version": 3
   },
   "file_extension": ".py",
   "mimetype": "text/x-python",
   "name": "python",
   "nbconvert_exporter": "python",
   "pygments_lexer": "ipython3",
   "version": "3.11.13"
  }
 },
 "nbformat": 4,
 "nbformat_minor": 5
}
